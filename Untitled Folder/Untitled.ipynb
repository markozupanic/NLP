{
 "cells": [
  {
   "cell_type": "code",
   "execution_count": 36,
   "id": "a67a8588",
   "metadata": {},
   "outputs": [
    {
     "name": "stderr",
     "output_type": "stream",
     "text": [
      "[nltk_data] Downloading package punkt to\n",
      "[nltk_data]     C:\\Users\\Korisnik\\AppData\\Roaming\\nltk_data...\n",
      "[nltk_data]   Package punkt is already up-to-date!\n",
      "[nltk_data] Downloading package stopwords to\n",
      "[nltk_data]     C:\\Users\\Korisnik\\AppData\\Roaming\\nltk_data...\n",
      "[nltk_data]   Package stopwords is already up-to-date!\n"
     ]
    },
    {
     "data": {
      "text/plain": [
       "True"
      ]
     },
     "execution_count": 36,
     "metadata": {},
     "output_type": "execute_result"
    }
   ],
   "source": [
    "import nltk\n",
    "from nltk.corpus import stopwords\n",
    "from nltk.stem import PorterStemmer\n",
    "from nltk.tokenize import word_tokenize\n",
    "from autocorrect import spell\n",
    "import contractions\n",
    "nltk.download('punkt')\n",
    "nltk.download('stopwords')"
   ]
  },
  {
   "cell_type": "code",
   "execution_count": 33,
   "id": "5847fb71",
   "metadata": {},
   "outputs": [],
   "source": [
    "from nltk.corpus import stopwords\n",
    "eng_stop_words=stopwords.words(\"english\")"
   ]
  },
  {
   "cell_type": "code",
   "execution_count": 37,
   "id": "6be68874",
   "metadata": {},
   "outputs": [
    {
     "name": "stdout",
     "output_type": "stream",
     "text": [
      "autocorrect.spell is deprecated,             use autocorrect.Speller instead\n",
      "today happi day final 12 years.i dont't know say\n"
     ]
    }
   ],
   "source": [
    "import string\n",
    "def preprocess_text(text):\n",
    "    \"\"\"\n",
    "    tokenizacija\n",
    "    lowercase\n",
    "    ukloni interpunkciju\n",
    "    korjenuj\n",
    "    \"\"\"\n",
    "    \n",
    "    text=spell(text)\n",
    "    \n",
    "    #tokenizacija\n",
    "    tokens=word_tokenize(text)\n",
    "    #lowwer\n",
    "    tokens=[token.lower() for token in tokens]\n",
    "    #remove punctuation\n",
    "    tokens=[token for token in tokens if token not in string.punctuation]\n",
    "    #remove stop words\n",
    "    tokens=[token for token in tokens if token not in eng_stop_words]\n",
    "    #stemming\n",
    "    stemmer=PorterStemmer()\n",
    "    tokens=[stemmer.stem(token) for token in tokens]\n",
    "    #join tokens back into sentence\n",
    "    preprocessed_text= \" \".join(tokens)\n",
    "    print(preprocessed_text)\n",
    "    \n",
    "preprocess_text(\"Today is a Happy day! Finnaly,after 12 years.I dont't know what to say.\")"
   ]
  },
  {
   "cell_type": "code",
   "execution_count": 19,
   "id": "f77fbc98",
   "metadata": {},
   "outputs": [
    {
     "name": "stdout",
     "output_type": "stream",
     "text": [
      "Collecting contractions\n",
      "  Downloading contractions-0.1.73-py2.py3-none-any.whl (8.7 kB)\n",
      "Collecting textsearch>=0.0.21\n",
      "  Downloading textsearch-0.0.24-py2.py3-none-any.whl (7.6 kB)\n",
      "Collecting anyascii\n",
      "  Downloading anyascii-0.3.2-py3-none-any.whl (289 kB)\n",
      "     -------------------------------------- 289.9/289.9 kB 3.6 MB/s eta 0:00:00\n",
      "Collecting pyahocorasick\n",
      "  Downloading pyahocorasick-2.0.0-cp310-cp310-win_amd64.whl (39 kB)\n",
      "Installing collected packages: pyahocorasick, anyascii, textsearch, contractions\n",
      "Successfully installed anyascii-0.3.2 contractions-0.1.73 pyahocorasick-2.0.0 textsearch-0.0.24\n"
     ]
    }
   ],
   "source": [
    "!pip install contractions"
   ]
  },
  {
   "cell_type": "code",
   "execution_count": 21,
   "id": "ad01bafb",
   "metadata": {},
   "outputs": [
    {
     "data": {
      "text/plain": [
       "\"Today is a Happy day! Finnaly,after 12 years.I do not't know what to say,you would not dare....\""
      ]
     },
     "execution_count": 21,
     "metadata": {},
     "output_type": "execute_result"
    }
   ],
   "source": [
    "import contractions\n",
    "\n",
    "s=\"Today is a Happy day! Finnaly,after 12 years.I dont't know what to say,i wouldn't dare....\"\n",
    "contractions.fix(s)"
   ]
  },
  {
   "cell_type": "code",
   "execution_count": 22,
   "id": "aab488f2",
   "metadata": {},
   "outputs": [
    {
     "name": "stdout",
     "output_type": "stream",
     "text": [
      "Collecting spellchecker\n",
      "  Downloading spellchecker-0.4.tar.gz (3.9 MB)\n",
      "     ---------------------------------------- 3.9/3.9 MB 9.7 MB/s eta 0:00:00\n",
      "  Preparing metadata (setup.py): started\n",
      "  Preparing metadata (setup.py): finished with status 'done'\n",
      "Requirement already satisfied: setuptools in c:\\users\\korisnik\\appdata\\local\\anaconda3\\lib\\site-packages (from spellchecker) (65.6.3)\n",
      "Collecting inexactsearch\n",
      "  Downloading inexactsearch-1.0.2.tar.gz (21 kB)\n",
      "  Preparing metadata (setup.py): started\n",
      "  Preparing metadata (setup.py): finished with status 'done'\n",
      "Collecting soundex>=1.0\n",
      "  Downloading soundex-1.1.3.tar.gz (9.1 kB)\n",
      "  Preparing metadata (setup.py): started\n",
      "  Preparing metadata (setup.py): finished with status 'done'\n",
      "Collecting silpa_common>=0.3\n",
      "  Downloading silpa_common-0.3.tar.gz (9.4 kB)\n",
      "  Preparing metadata (setup.py): started\n",
      "  Preparing metadata (setup.py): finished with status 'done'\n",
      "Building wheels for collected packages: spellchecker, inexactsearch, silpa_common, soundex\n",
      "  Building wheel for spellchecker (setup.py): started\n",
      "  Building wheel for spellchecker (setup.py): finished with status 'done'\n",
      "  Created wheel for spellchecker: filename=spellchecker-0.4-py3-none-any.whl size=3966510 sha256=00d9d4e884d24954fce0c81e40df04aae99d4d5180db4e2aebbfcc551ebed5e7\n",
      "  Stored in directory: c:\\users\\korisnik\\appdata\\local\\pip\\cache\\wheels\\2a\\74\\0e\\f02f44db559be03fe67fd64498f758abd9082efe45d4142845\n",
      "  Building wheel for inexactsearch (setup.py): started\n",
      "  Building wheel for inexactsearch (setup.py): finished with status 'done'\n",
      "  Created wheel for inexactsearch: filename=inexactsearch-1.0.2-py3-none-any.whl size=7147 sha256=79c2ae4bc4727b51993dc285bd4d9cb0c48963512f3dbfd8b22ae22f29a51203\n",
      "  Stored in directory: c:\\users\\korisnik\\appdata\\local\\pip\\cache\\wheels\\1e\\18\\29\\048e5ab5e2c772b87f3cda9603c59e79ca153f64e8d331c1b6\n",
      "  Building wheel for silpa_common (setup.py): started\n",
      "  Building wheel for silpa_common (setup.py): finished with status 'done'\n",
      "  Created wheel for silpa_common: filename=silpa_common-0.3-py3-none-any.whl size=8482 sha256=79a5b32d933871499a4cb070ff421225025def63dfef46e4e21bfa023bcd9311\n",
      "  Stored in directory: c:\\users\\korisnik\\appdata\\local\\pip\\cache\\wheels\\7a\\0d\\61\\45449022609e4442c86884f5a376a9e574ea0e7130873c9cb1\n",
      "  Building wheel for soundex (setup.py): started\n",
      "  Building wheel for soundex (setup.py): finished with status 'done'\n",
      "  Created wheel for soundex: filename=soundex-1.1.3-py3-none-any.whl size=8893 sha256=f58b22e947b3e5d1b038a0a1d8d98a895549bb461e67ae9448e874c6834dee7f\n",
      "  Stored in directory: c:\\users\\korisnik\\appdata\\local\\pip\\cache\\wheels\\bc\\3a\\51\\6f462cb6a776d5aad21e9202cd04645794b918c5706f02a1fa\n",
      "Successfully built spellchecker inexactsearch silpa_common soundex\n",
      "Installing collected packages: silpa_common, soundex, inexactsearch, spellchecker\n",
      "Successfully installed inexactsearch-1.0.2 silpa_common-0.3 soundex-1.1.3 spellchecker-0.4\n"
     ]
    }
   ],
   "source": [
    "! pip install spellchecker"
   ]
  },
  {
   "cell_type": "code",
   "execution_count": 26,
   "id": "2cf3bc65",
   "metadata": {},
   "outputs": [
    {
     "name": "stdout",
     "output_type": "stream",
     "text": [
      "Requirement already satisfied: autocorrect in c:\\users\\korisnik\\appdata\\local\\anaconda3\\lib\\site-packages (2.6.1)\n"
     ]
    }
   ],
   "source": [
    "!pip install autocorrect\n"
   ]
  },
  {
   "cell_type": "code",
   "execution_count": 30,
   "id": "61116b31",
   "metadata": {},
   "outputs": [
    {
     "name": "stdout",
     "output_type": "stream",
     "text": [
      "autocorrect.spell is deprecated,             use autocorrect.Speller instead\n"
     ]
    },
    {
     "data": {
      "text/plain": [
       "\"Today is a Happy day! Final,after 12 years.i dont't know what to say.\""
      ]
     },
     "execution_count": 30,
     "metadata": {},
     "output_type": "execute_result"
    }
   ],
   "source": [
    "from autocorrect import spell\n",
    "spell(\"Today is a Happy day! Finnaly,after 12 years.i dont't know what to say.\")"
   ]
  },
  {
   "cell_type": "code",
   "execution_count": null,
   "id": "71336f9f",
   "metadata": {},
   "outputs": [],
   "source": []
  }
 ],
 "metadata": {
  "kernelspec": {
   "display_name": "Python 3 (ipykernel)",
   "language": "python",
   "name": "python3"
  },
  "language_info": {
   "codemirror_mode": {
    "name": "ipython",
    "version": 3
   },
   "file_extension": ".py",
   "mimetype": "text/x-python",
   "name": "python",
   "nbconvert_exporter": "python",
   "pygments_lexer": "ipython3",
   "version": "3.10.9"
  }
 },
 "nbformat": 4,
 "nbformat_minor": 5
}
