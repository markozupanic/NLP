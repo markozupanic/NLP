{
 "cells": [
  {
   "cell_type": "code",
   "execution_count": 1,
   "id": "c0232180",
   "metadata": {},
   "outputs": [],
   "source": [
    "from sklearn.naive_bayes import MultinomialNB\n",
    "from sklearn.feature_extraction.text import CountVectorizer\n"
   ]
  },
  {
   "cell_type": "code",
   "execution_count": 11,
   "id": "c9063d56",
   "metadata": {},
   "outputs": [],
   "source": [
    "questions = []\n",
    "labels = []\n",
    "\n",
    "answers = []\n",
    "\n",
    "with open(\"pitanja.txt\", encoding='utf8') as file:\n",
    "    for line in file:\n",
    "        pit, klasa = line.rsplit(\" \", maxsplit=1)\n",
    "        questions.append(pit)\n",
    "        labels.append(klasa.rstrip())\n",
    "\n",
    "with open(\"odgovori.txt\", encoding='utf8') as file:\n",
    "    for line in file:\n",
    "        answers.append(line.rstrip())"
   ]
  },
  {
   "cell_type": "code",
   "execution_count": 16,
   "id": "7f440ddf",
   "metadata": {},
   "outputs": [
    {
     "name": "stdout",
     "output_type": "stream",
     "text": [
      "['hi there', 'hello how are you', 'what is your name', 'who are you', 'you are who', 'my name is', 'how old are you', 'what is your age', 'are you getting older', 'what about your age', 'Where do you live', 'I live in', 'your resident', 'good morning', \"it's morning\", 'morning', 'good evening', \"it's evening\", 'evening', 'good night', 'night', 'sweet dreams', \"let's sleep\", 'weather report', 'give me weather report for today', \"tell me today's weather report\", 'What can you do', 'how can you help me', 'help', 'bye', 'goodbye', 'exit', 'I am fine thanks', 'I am fine', 'fine', 'thanks', 'thank you']\n"
     ]
    }
   ],
   "source": [
    "print(questions)"
   ]
  },
  {
   "cell_type": "code",
   "execution_count": 17,
   "id": "b8da156b",
   "metadata": {},
   "outputs": [],
   "source": [
    "bow_vectorizer=CountVectorizer()"
   ]
  },
  {
   "cell_type": "code",
   "execution_count": 18,
   "id": "88e1726d",
   "metadata": {},
   "outputs": [
    {
     "data": {
      "text/html": [
       "<style>#sk-container-id-1 {color: black;background-color: white;}#sk-container-id-1 pre{padding: 0;}#sk-container-id-1 div.sk-toggleable {background-color: white;}#sk-container-id-1 label.sk-toggleable__label {cursor: pointer;display: block;width: 100%;margin-bottom: 0;padding: 0.3em;box-sizing: border-box;text-align: center;}#sk-container-id-1 label.sk-toggleable__label-arrow:before {content: \"▸\";float: left;margin-right: 0.25em;color: #696969;}#sk-container-id-1 label.sk-toggleable__label-arrow:hover:before {color: black;}#sk-container-id-1 div.sk-estimator:hover label.sk-toggleable__label-arrow:before {color: black;}#sk-container-id-1 div.sk-toggleable__content {max-height: 0;max-width: 0;overflow: hidden;text-align: left;background-color: #f0f8ff;}#sk-container-id-1 div.sk-toggleable__content pre {margin: 0.2em;color: black;border-radius: 0.25em;background-color: #f0f8ff;}#sk-container-id-1 input.sk-toggleable__control:checked~div.sk-toggleable__content {max-height: 200px;max-width: 100%;overflow: auto;}#sk-container-id-1 input.sk-toggleable__control:checked~label.sk-toggleable__label-arrow:before {content: \"▾\";}#sk-container-id-1 div.sk-estimator input.sk-toggleable__control:checked~label.sk-toggleable__label {background-color: #d4ebff;}#sk-container-id-1 div.sk-label input.sk-toggleable__control:checked~label.sk-toggleable__label {background-color: #d4ebff;}#sk-container-id-1 input.sk-hidden--visually {border: 0;clip: rect(1px 1px 1px 1px);clip: rect(1px, 1px, 1px, 1px);height: 1px;margin: -1px;overflow: hidden;padding: 0;position: absolute;width: 1px;}#sk-container-id-1 div.sk-estimator {font-family: monospace;background-color: #f0f8ff;border: 1px dotted black;border-radius: 0.25em;box-sizing: border-box;margin-bottom: 0.5em;}#sk-container-id-1 div.sk-estimator:hover {background-color: #d4ebff;}#sk-container-id-1 div.sk-parallel-item::after {content: \"\";width: 100%;border-bottom: 1px solid gray;flex-grow: 1;}#sk-container-id-1 div.sk-label:hover label.sk-toggleable__label {background-color: #d4ebff;}#sk-container-id-1 div.sk-serial::before {content: \"\";position: absolute;border-left: 1px solid gray;box-sizing: border-box;top: 0;bottom: 0;left: 50%;z-index: 0;}#sk-container-id-1 div.sk-serial {display: flex;flex-direction: column;align-items: center;background-color: white;padding-right: 0.2em;padding-left: 0.2em;position: relative;}#sk-container-id-1 div.sk-item {position: relative;z-index: 1;}#sk-container-id-1 div.sk-parallel {display: flex;align-items: stretch;justify-content: center;background-color: white;position: relative;}#sk-container-id-1 div.sk-item::before, #sk-container-id-1 div.sk-parallel-item::before {content: \"\";position: absolute;border-left: 1px solid gray;box-sizing: border-box;top: 0;bottom: 0;left: 50%;z-index: -1;}#sk-container-id-1 div.sk-parallel-item {display: flex;flex-direction: column;z-index: 1;position: relative;background-color: white;}#sk-container-id-1 div.sk-parallel-item:first-child::after {align-self: flex-end;width: 50%;}#sk-container-id-1 div.sk-parallel-item:last-child::after {align-self: flex-start;width: 50%;}#sk-container-id-1 div.sk-parallel-item:only-child::after {width: 0;}#sk-container-id-1 div.sk-dashed-wrapped {border: 1px dashed gray;margin: 0 0.4em 0.5em 0.4em;box-sizing: border-box;padding-bottom: 0.4em;background-color: white;}#sk-container-id-1 div.sk-label label {font-family: monospace;font-weight: bold;display: inline-block;line-height: 1.2em;}#sk-container-id-1 div.sk-label-container {text-align: center;}#sk-container-id-1 div.sk-container {/* jupyter's `normalize.less` sets `[hidden] { display: none; }` but bootstrap.min.css set `[hidden] { display: none !important; }` so we also need the `!important` here to be able to override the default hidden behavior on the sphinx rendered scikit-learn.org. See: https://github.com/scikit-learn/scikit-learn/issues/21755 */display: inline-block !important;position: relative;}#sk-container-id-1 div.sk-text-repr-fallback {display: none;}</style><div id=\"sk-container-id-1\" class=\"sk-top-container\"><div class=\"sk-text-repr-fallback\"><pre>MultinomialNB()</pre><b>In a Jupyter environment, please rerun this cell to show the HTML representation or trust the notebook. <br />On GitHub, the HTML representation is unable to render, please try loading this page with nbviewer.org.</b></div><div class=\"sk-container\" hidden><div class=\"sk-item\"><div class=\"sk-estimator sk-toggleable\"><input class=\"sk-toggleable__control sk-hidden--visually\" id=\"sk-estimator-id-1\" type=\"checkbox\" checked><label for=\"sk-estimator-id-1\" class=\"sk-toggleable__label sk-toggleable__label-arrow\">MultinomialNB</label><div class=\"sk-toggleable__content\"><pre>MultinomialNB()</pre></div></div></div></div></div>"
      ],
      "text/plain": [
       "MultinomialNB()"
      ]
     },
     "execution_count": 18,
     "metadata": {},
     "output_type": "execute_result"
    }
   ],
   "source": [
    "training_vectors=bow_vectorizer.fit_transform(questions)\n",
    "classifier=MultinomialNB()\n",
    "classifier.fit(training_vectors,labels)"
   ]
  },
  {
   "cell_type": "code",
   "execution_count": 19,
   "id": "ffed40f8",
   "metadata": {},
   "outputs": [
    {
     "data": {
      "text/plain": [
       "{'hi': 18,\n",
       " 'there': 39,\n",
       " 'hello': 16,\n",
       " 'how': 19,\n",
       " 'are': 3,\n",
       " 'you': 45,\n",
       " 'what': 42,\n",
       " 'is': 21,\n",
       " 'your': 46,\n",
       " 'name': 28,\n",
       " 'who': 44,\n",
       " 'my': 27,\n",
       " 'old': 30,\n",
       " 'age': 1,\n",
       " 'getting': 12,\n",
       " 'older': 31,\n",
       " 'about': 0,\n",
       " 'where': 43,\n",
       " 'do': 6,\n",
       " 'live': 24,\n",
       " 'in': 20,\n",
       " 'resident': 33,\n",
       " 'good': 14,\n",
       " 'morning': 26,\n",
       " 'it': 22,\n",
       " 'evening': 8,\n",
       " 'night': 29,\n",
       " 'sweet': 35,\n",
       " 'dreams': 7,\n",
       " 'let': 23,\n",
       " 'sleep': 34,\n",
       " 'weather': 41,\n",
       " 'report': 32,\n",
       " 'give': 13,\n",
       " 'me': 25,\n",
       " 'for': 11,\n",
       " 'today': 40,\n",
       " 'tell': 36,\n",
       " 'can': 5,\n",
       " 'help': 17,\n",
       " 'bye': 4,\n",
       " 'goodbye': 15,\n",
       " 'exit': 9,\n",
       " 'am': 2,\n",
       " 'fine': 10,\n",
       " 'thanks': 38,\n",
       " 'thank': 37}"
      ]
     },
     "execution_count": 19,
     "metadata": {},
     "output_type": "execute_result"
    }
   ],
   "source": [
    "bow_vectorizer.vocabulary_"
   ]
  },
  {
   "cell_type": "code",
   "execution_count": 20,
   "id": "57664d69",
   "metadata": {},
   "outputs": [
    {
     "name": "stdout",
     "output_type": "stream",
     "text": [
      "  (0, 18)\t1\n",
      "  (0, 39)\t1\n",
      "  (1, 16)\t1\n",
      "  (1, 19)\t1\n",
      "  (1, 3)\t1\n",
      "  (1, 45)\t1\n",
      "  (2, 42)\t1\n",
      "  (2, 21)\t1\n",
      "  (2, 46)\t1\n",
      "  (2, 28)\t1\n",
      "  (3, 3)\t1\n",
      "  (3, 45)\t1\n",
      "  (3, 44)\t1\n",
      "  (4, 3)\t1\n",
      "  (4, 45)\t1\n",
      "  (4, 44)\t1\n",
      "  (5, 21)\t1\n",
      "  (5, 28)\t1\n",
      "  (5, 27)\t1\n",
      "  (6, 19)\t1\n",
      "  (6, 3)\t1\n",
      "  (6, 45)\t1\n",
      "  (6, 30)\t1\n",
      "  (7, 42)\t1\n",
      "  (7, 21)\t1\n",
      "  :\t:\n",
      "  (25, 25)\t1\n",
      "  (25, 40)\t1\n",
      "  (25, 36)\t1\n",
      "  (26, 45)\t1\n",
      "  (26, 42)\t1\n",
      "  (26, 6)\t1\n",
      "  (26, 5)\t1\n",
      "  (27, 19)\t1\n",
      "  (27, 45)\t1\n",
      "  (27, 25)\t1\n",
      "  (27, 5)\t1\n",
      "  (27, 17)\t1\n",
      "  (28, 17)\t1\n",
      "  (29, 4)\t1\n",
      "  (30, 15)\t1\n",
      "  (31, 9)\t1\n",
      "  (32, 2)\t1\n",
      "  (32, 10)\t1\n",
      "  (32, 38)\t1\n",
      "  (33, 2)\t1\n",
      "  (33, 10)\t1\n",
      "  (34, 10)\t1\n",
      "  (35, 38)\t1\n",
      "  (36, 45)\t1\n",
      "  (36, 37)\t1\n"
     ]
    }
   ],
   "source": [
    "print(training_vectors)"
   ]
  },
  {
   "cell_type": "code",
   "execution_count": null,
   "id": "410552fc",
   "metadata": {},
   "outputs": [],
   "source": []
  }
 ],
 "metadata": {
  "kernelspec": {
   "display_name": "Python 3 (ipykernel)",
   "language": "python",
   "name": "python3"
  },
  "language_info": {
   "codemirror_mode": {
    "name": "ipython",
    "version": 3
   },
   "file_extension": ".py",
   "mimetype": "text/x-python",
   "name": "python",
   "nbconvert_exporter": "python",
   "pygments_lexer": "ipython3",
   "version": "3.10.9"
  }
 },
 "nbformat": 4,
 "nbformat_minor": 5
}
