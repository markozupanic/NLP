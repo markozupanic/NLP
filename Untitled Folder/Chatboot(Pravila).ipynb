{
 "cells": [
  {
   "cell_type": "code",
   "execution_count": 1,
   "id": "16fef419",
   "metadata": {},
   "outputs": [],
   "source": [
    "import nltk\n",
    "from nltk.chat.util import Chat, reflections\n",
    "\n"
   ]
  },
  {
   "cell_type": "code",
   "execution_count": 14,
   "id": "c344c43a",
   "metadata": {},
   "outputs": [],
   "source": [
    "parovi = [\n",
    " [\n",
    " r\"what is your name (.*)?\",\n",
    " [\"My name is Mark and I'm a chatbot %1\"]\n",
    "    ],\n",
    " [\n",
    " r\"how are you ?\",\n",
    " [\"I'm doing good\\nHow about you\"]\n",
    " ],[\n",
    " r\"hi|hey|hello\",\n",
    " [\"Hello\", \"Hey there\"]\n",
    " ],\n",
    " [\n",
    " r\"what is your location ?\",\n",
    " ['Europe, Croatia']\n",
    " ],[\n",
    " r\"i work in Google\",\n",
    " [\"Google is an amazing company, I have heard about it.\"]\n",
    " ],\n",
    " [r\"how is your health\",\n",
    " [\"I'm a computer program, so I'm always healthy \"]\n",
    " ],[\n",
    " r\"do you like football ?\",\n",
    " [\"I'm a very big fan of Football\"]\n",
    " ],[\n",
    " r\"(.*)\",\n",
    " [\"%1\"]\n",
    " ],\n",
    " [\n",
    " r\"quit\",\n",
    " [\"Bye take care.\"]\n",
    "],\n",
    "]\n"
   ]
  },
  {
   "cell_type": "code",
   "execution_count": null,
   "id": "6367567d",
   "metadata": {},
   "outputs": [
    {
     "name": "stdout",
     "output_type": "stream",
     "text": [
      ">what is your name luka\n",
      "My name is Mark and I'm a chatbot luka\n",
      ">what is your name my\n",
      "My name is Mark and I'm a chatbot your\n"
     ]
    }
   ],
   "source": [
    "chat = Chat(parovi, reflections)\n",
    "chat.converse()"
   ]
  },
  {
   "cell_type": "code",
   "execution_count": null,
   "id": "5ee0794a",
   "metadata": {},
   "outputs": [],
   "source": []
  }
 ],
 "metadata": {
  "kernelspec": {
   "display_name": "Python 3 (ipykernel)",
   "language": "python",
   "name": "python3"
  },
  "language_info": {
   "codemirror_mode": {
    "name": "ipython",
    "version": 3
   },
   "file_extension": ".py",
   "mimetype": "text/x-python",
   "name": "python",
   "nbconvert_exporter": "python",
   "pygments_lexer": "ipython3",
   "version": "3.10.9"
  }
 },
 "nbformat": 4,
 "nbformat_minor": 5
}
