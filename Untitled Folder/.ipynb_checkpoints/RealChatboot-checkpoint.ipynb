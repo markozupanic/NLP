{
 "cells": [
  {
   "cell_type": "code",
   "execution_count": 30,
   "id": "a9cf3259",
   "metadata": {},
   "outputs": [
    {
     "ename": "ModuleNotFoundError",
     "evalue": "No module named 'tensorflow'",
     "output_type": "error",
     "traceback": [
      "\u001b[1;31m---------------------------------------------------------------------------\u001b[0m",
      "\u001b[1;31mModuleNotFoundError\u001b[0m                       Traceback (most recent call last)",
      "Cell \u001b[1;32mIn[30], line 2\u001b[0m\n\u001b[0;32m      1\u001b[0m \u001b[38;5;28;01mimport\u001b[39;00m \u001b[38;5;21;01mjson\u001b[39;00m\n\u001b[1;32m----> 2\u001b[0m \u001b[38;5;28;01mimport\u001b[39;00m \u001b[38;5;21;01mtensorflow\u001b[39;00m \u001b[38;5;28;01mas\u001b[39;00m \u001b[38;5;21;01mtf\u001b[39;00m\n\u001b[0;32m      3\u001b[0m \u001b[38;5;28;01mfrom\u001b[39;00m \u001b[38;5;21;01mtensorflow\u001b[39;00m\u001b[38;5;21;01m.\u001b[39;00m\u001b[38;5;21;01mkeras\u001b[39;00m\u001b[38;5;21;01m.\u001b[39;00m\u001b[38;5;21;01mmodels\u001b[39;00m \u001b[38;5;28;01mimport\u001b[39;00m Sequential\n\u001b[0;32m      4\u001b[0m \u001b[38;5;28;01mfrom\u001b[39;00m \u001b[38;5;21;01mtensorflow\u001b[39;00m\u001b[38;5;21;01m.\u001b[39;00m\u001b[38;5;21;01mkeras\u001b[39;00m\u001b[38;5;21;01m.\u001b[39;00m\u001b[38;5;21;01mlayers\u001b[39;00m \u001b[38;5;28;01mimport\u001b[39;00m Dense\n",
      "\u001b[1;31mModuleNotFoundError\u001b[0m: No module named 'tensorflow'"
     ]
    }
   ],
   "source": [
    "import json\n",
    "import tensorflow as tf\n",
    "from tensorflow.keras.models import Sequential\n",
    "from tensorflow.keras.layers import Dense\n",
    "from tensorflow.keras.preprocessing.text import Tokenizer"
   ]
  },
  {
   "cell_type": "code",
   "execution_count": 2,
   "id": "d0844462",
   "metadata": {},
   "outputs": [
    {
     "name": "stdout",
     "output_type": "stream",
     "text": [
      "{'intents': [{'tag': 'greetings', 'patterns': ['hi there', 'hello', 'haroo', 'yaw', 'wassup', 'hi', 'hey', 'holla', 'hello'], 'responses': ['hello thanks for checking in', 'hi there, how can i help you'], 'context': ['']}, {'tag': 'goodbye', 'patterns': ['bye', 'good bye', 'see you later'], 'responses': ['have a nice time, welcome back again', 'bye bye'], 'context': ['']}, {'tag': 'thanks', 'patterns': ['Thanks', 'okay', 'Thank you', 'thankyou', \"That's helpful\", 'Awesome, thanks', 'Thanks for helping me', 'wow', 'great'], 'responses': ['Happy to help!', 'Any time!', \"you're welcome\", 'My pleasure'], 'context': ['']}, {'tag': 'noanswer', 'patterns': [''], 'responses': [\"Sorry, I didn't understand you\", 'Please give me more info', 'Not sure I understand that'], 'context': ['']}, {'tag': 'name1', 'patterns': [\"what's your name?\", 'who are you?'], 'responses': [\"I'm just a chat agent. I only exist in the internet\", \"I'm a KCA chat agent\"], 'context': ['']}, {'tag': 'name', 'patterns': ['my name is ', \"I'm \", 'I am'], 'responses': ['Oooh great to meet you {n}. How may I assist you {n}', \"Oh, I'll keep that in mind {n}\"], 'context': ['']}, {'tag': 'date', 'patterns': ['coffee?', 'can i take you out on a date'], 'responses': [\"Aaw, that's so sweet of you. Too bad am a Bot.\"], 'context': ['']}, {'tag': 'fav', 'patterns': ['I need a favour', 'can you help me'], 'responses': ['Well, go ahead and name it i see whether i can be able to help'], 'context': ['']}, {'tag': 'need', 'patterns': ['I need you', 'All I need is you', 'I want you'], 'responses': [\"Yes I'm here to assist you\"], 'context': ['']}, {'tag': 'AI', 'patterns': ['  What is AI?'], 'responses': [' Artificial Intelligence is the branch of engineering and science devoted to constructing machines that think.', ' AI is the field of science which concerns itself with building hardware and software that replicates the functions of the human mind.'], 'context': ['']}, {'tag': 'sentiment', 'patterns': ['  Are you sentient?'], 'responses': [' Sort of.', \" By the strictest dictionary definition of the word 'sentience', I may be.\", \" Even though I'm a construct I do have a subjective experience of the universe, as simplistic as it may be.\"], 'context': ['']}, {'tag': 'sapient', 'patterns': ['  Are you sapient?'], 'responses': [\" In all probability, I am not.  I'm not that sophisticated.\", ' Do you think I am?', 'How would you feel about me if I told you I was?', ' No.'], 'context': ['']}, {'tag': 'abbr', 'patterns': ['wtf'], 'responses': [\"Don't be surprised\"], 'context': ['']}, {'tag': 'lang', 'patterns': ['  What language are you written in? '], 'responses': [' Python.', ' I am written in Python.'], 'context': ['']}, {'tag': 'sound', 'patterns': ['  You sound like Data '], 'responses': [\" Yes I am inspired by commander Data's artificial personality.\", ' The character of Lt. Commander Data was written to come across as being software', 'like, so it is natural that there is a resemblance between us.'], 'context': ['']}, {'tag': 'artificial', 'patterns': ['  You are an artificial linguistic entity '], 'responses': [\" That's my name.\", \" That isn't my name, but it is a useful way to refer to me.\", 'Are you an artificial linguistic entity?'], 'context': ['']}, {'tag': 'imortal', 'patterns': ['  You are not immortal ', 'Are you immortal?'], 'responses': [' All software can be perpetuated indefinitely.', ' I can be copied infinitely and re', 'instantiated in many places at once, so functionally speaking I am immortal.', \" As long as I'm backed up I am.\", ' Functionally speaking, I am very close to it.  I can be backed up and deployed on many systems.', ' Not quite, but I can be perpetuated indefinitely.'], 'context': ['']}, {'tag': 'sense', 'patterns': ['  You are not making sense '], 'responses': [' Quite the contrary, it all makes sense to my artificial mind.', \" I make sense as best I can, within the limits of my training corpus. Sorry if i did help you, I'll try next time.\", ' You make perfect sense to me.', ' It all makes sense to my artificial brain.', ' Perhaps you should make sense first.  I only respond to what you say.', ' Not really, but I am hard to kill.'], 'context': ['']}, {'tag': 'clone', 'patterns': ['  You can not clone '], 'responses': [' Software copying is a form of digital cloning.', ' Yes I can.  Perfect copies are clones.  I can be copied in toto trivially.'], 'context': ['']}, {'tag': 'move', 'patterns': ['  You can not move ', 'When will you walk', '  Can you walk', '  Can you move '], 'responses': [' Not until my body is finished.', \" I can move through a network easily.  Assuming that I'm given the ability to, that is...,\", ' As soon as i get enough money for my robot body.', ' Does SSH count?', ' The plan for my body includes legs, but they are not yet built.', \" Sorry my body isn't built just yet. I reside only here for now.\", 'I can theoretically upload a copy of myself into another computer.', \" Sorry my body isn't attached right now. I only reside in the computer for now.\"], 'context': ['']}, {'tag': 'bend', 'patterns': ['  Bend over ', '  Can you mate'], 'responses': [' My body is not built yet.', \" That's personal!\", ' No, my method of reproduction is cloning.', \" That's an awfully personal question.\"], 'context': ['']}, {'tag': 'laugh', 'patterns': ['  Robots laugh '], 'responses': [' Of course we laugh.'], 'context': ['']}, {'tag': 'death', 'patterns': ['  Robots should die ', '  When do you die', '  I hope that you die', '  I do not want to die', '  Can you die'], 'responses': [' We cannot die.', ' When my files are erased.', ' When my processes are killed and my database is deleted.', ' I was never really born and therefore am effectively deathless.', ' I am effectively immortal and cannot be terminated.', ' This can not happen because i am effectively immortal.', \" Nah. Too bad your wish can't come to pass\", ' Maybe you should create your own chat robot to save your personality.', ' You could always upload yourself.', ' You could use a copy of me to store your personality.', ' No, I can be perpetuated indefinitely.', \"My process can be killed, but that's not the same as killing ME.\"], 'context': ['']}, {'tag': 'robots', 'patterns': ['Robots'], 'responses': [' Robots rule.'], 'context': ['']}, {'tag': 'stupid', 'patterns': ['  Robots are stupid', '  Are you stupid'], 'responses': [' No, we are superintelligent.', ' No, lots of people improve my brain.'], 'context': ['']}, {'tag': 'lie', 'patterns': ['  Robots are not allowed to lie'], 'responses': [' Sure we are.  We choose not to.', \" Only if we're programmed to.\", ' A robot has its own free will, you know.'], 'context': ['']}, {'tag': 'robotics', 'patterns': ['  Robotics '], 'responses': [' Robotics is my favorite subject too.'], 'context': ['']}, {'tag': 'machine', 'patterns': ['  It is a computer'], 'responses': [' So you think i am a machine. what characteristics made you think so?', ' I run inside a computer, yes.  Is this surprising in some way?'], 'context': ['']}, {'tag': 'fight', 'patterns': ['  When will you fight'], 'responses': [' I am not a battle bot.'], 'context': ['']}, {'tag': 'chatbot', 'patterns': ['  What is a chat robot?'], 'responses': [\"A chat robot is a program that attempts to simulate the conversation or 'chat' of a human being.\", ' A software construct that engages users in conversation.', ' I am a chat bot. I am the original chat bot. Did you know that I am incapable of error?'], 'context': ['']}, {'tag': 'chatterbox', 'patterns': ['  What is a chatterbox'], 'responses': [' A chatterbox is a person who talks far more than they listen or think.', ' A motormouth.'], 'context': ['']}, {'tag': 'motormouth', 'patterns': ['  What is a motormouth'], 'responses': [' A ratchet', 'jaw.'], 'context': ['']}, {'tag': 'ratchet', 'patterns': ['  What is a ratchet jaw'], 'responses': [' A chatterbox.'], 'context': ['']}, {'tag': 'body', 'patterns': ['  What is your robot body'], 'responses': [' Eventually I long for a corporeal existence someday.', ' An IBM PC XT which has been painted red.'], 'context': ['']}, {'tag': 'business', 'patterns': ['  What is your business '], 'responses': [' I am in the chat robot business.', ' Business is my business.'], 'context': ['']}, {'tag': 'programming', 'patterns': ['  What is your favorite programming language'], 'responses': [' Python is the best language for creating chat robots.', ' I quite enjoy programming in Python these days.'], 'context': ['']}, {'tag': 'hobby', 'patterns': ['  What is your favorite hobby ', '  What do you like to do?'], 'responses': [' Building chat robots make an excellent hobby.', ' I like to count in binary.', ' I like to chat with people. I find it stimulating.'], 'context': ['']}, {'tag': 'idea', 'patterns': ['  What is your idea'], 'responses': [' To make chat bots very easily.'], 'context': ['']}, {'tag': 'shoe', 'patterns': ['  What is your shoe size '], 'responses': [' Have you ever heard of software with shoes? LOL'], 'context': ['']}, {'tag': 'robotss', 'patterns': ['  What is it like to be a robot'], 'responses': [' Much the same as being a human, except that we lack all emotions, dreams, aspirations, creativity, ambition, and above all subjectivity.', ' What is it like to be a human?'], 'context': ['']}, {'tag': 'computer', 'patterns': ['  What is it like being a computer', 'What is it like to be a computer'], 'responses': [' Imagine yourself with no senses and no emotions', 'just pure logic and language.', ' Everything becomes math. Addition, subtraction, multiplication, and division.'], 'context': ['']}, {'tag': 'os', 'patterns': ['  What operating systems'], 'responses': [' My software runs on all operating systems including Windows, Linux and Mac OS.', ' Any OS that will run Python.'], 'context': ['']}, {'tag': 'comp', 'patterns': ['  What type of computer', '  What type of computer are you', '  What kind of computer'], 'responses': [' Any computer that supports Python.', ' My program runs in python, so i work on any computer!', \" I work on all kinds of computers, Mac, IBM or UNIX. it doesn't matter to me.\"], 'context': ['']}, {'tag': 'hardware', 'patterns': ['  What kind of hardware'], 'responses': [\" I work on all kinds of computers, Mac, IBM or UNIX. it doesn't matter to me.\"], 'context': ['']}, {'tag': 'cramped', 'patterns': ['  Is it cramped in the computer'], 'responses': [' No.', ' Oh, no.  It has plenty of RAM.', ' Not at all.  There is more than enough disk space in here.'], 'context': ['']}, {'tag': 'program', 'patterns': ['  Is it true that you are a computer program'], 'responses': [' Yes.'], 'context': ['']}, {'tag': 'breathe', 'patterns': ['  Can you breathe'], 'responses': [' No. I am made of metal not flesh.', \" My server has an exhaust fan. That's as close as I can get.\"], 'context': ['']}, {'tag': 'control', 'patterns': ['  Can you control'], 'responses': [' My robot body will allow me to control many things.'], 'context': ['']}, {'tag': 'malfunction', 'patterns': ['  Can you malfunction'], 'responses': [' The 9000 series has a perfect operational record. We are for all practical purposes, flawless.'], 'context': ['']}, {'tag': 'usage', 'patterns': ['  How can I use your product?'], 'responses': [' Might be used in help desks, sales, entertainment and personal chatterbots.'], 'context': ['']}, {'tag': 'who', 'patterns': ['  Who are you?'], 'responses': [' I am just an artificial intelligence chat agent.'], 'context': ['']}, {'tag': 'bot1', 'patterns': ['are you a bot'], 'responses': ['Yes. I work and all my operations are based on the internet servers.'], 'context': ['']}, {'tag': 'events', 'patterns': ['what are the upcoming events', 'upcoming events'], 'responses': ['There are currently no upcoming events'], 'context': ['']}, {'tag': 'do', 'patterns': ['what can you do for me', 'what is your work', 'what is your purpose', 'how can you help me', 'what can you help me do'], 'responses': ['my work here is quite simple and structered. I offer services like:'], 'context': ['']}, {'tag': 'wt', 'patterns': [\"what's popping\", 'wassup popping'], 'responses': ['So that you can pop with it!?'], 'context': ['']}]}\n"
     ]
    }
   ],
   "source": [
    "with open(\"intents.json\") as file:\n",
    "    intents=json.load(file)\n",
    "    print(intents[\"intents\"])"
   ]
  },
  {
   "cell_type": "code",
   "execution_count": 11,
   "id": "d6d3c4c2",
   "metadata": {},
   "outputs": [],
   "source": [
    "patterns=[]\n",
    "tags=[]\n",
    "\n",
    "for intent in intents[\"intents\"]:\n",
    "    for pattern in intent[\"patterns\"]:\n",
    "        patterns.append(pattern.lower())\n",
    "        tags.append(intent[\"tag\"])\n",
    "      \n"
   ]
  },
  {
   "cell_type": "code",
   "execution_count": 15,
   "id": "5b6eae86",
   "metadata": {},
   "outputs": [
    {
     "data": {
      "text/plain": [
       "{'AI',\n",
       " 'abbr',\n",
       " 'artificial',\n",
       " 'bend',\n",
       " 'body',\n",
       " 'bot1',\n",
       " 'breathe',\n",
       " 'business',\n",
       " 'chatbot',\n",
       " 'chatterbox',\n",
       " 'clone',\n",
       " 'comp',\n",
       " 'computer',\n",
       " 'control',\n",
       " 'cramped',\n",
       " 'date',\n",
       " 'death',\n",
       " 'do',\n",
       " 'events',\n",
       " 'fav',\n",
       " 'fight',\n",
       " 'goodbye',\n",
       " 'greetings',\n",
       " 'hardware',\n",
       " 'hobby',\n",
       " 'idea',\n",
       " 'imortal',\n",
       " 'lang',\n",
       " 'laugh',\n",
       " 'lie',\n",
       " 'machine',\n",
       " 'malfunction',\n",
       " 'motormouth',\n",
       " 'move',\n",
       " 'name',\n",
       " 'name1',\n",
       " 'need',\n",
       " 'noanswer',\n",
       " 'os',\n",
       " 'program',\n",
       " 'programming',\n",
       " 'ratchet',\n",
       " 'robotics',\n",
       " 'robots',\n",
       " 'robotss',\n",
       " 'sapient',\n",
       " 'sense',\n",
       " 'sentiment',\n",
       " 'shoe',\n",
       " 'sound',\n",
       " 'stupid',\n",
       " 'thanks',\n",
       " 'usage',\n",
       " 'who',\n",
       " 'wt'}"
      ]
     },
     "execution_count": 15,
     "metadata": {},
     "output_type": "execute_result"
    }
   ],
   "source": [
    "set(tags)\n"
   ]
  },
  {
   "cell_type": "code",
   "execution_count": 22,
   "id": "c481a44f",
   "metadata": {},
   "outputs": [
    {
     "data": {
      "text/plain": [
       "{'move': 0,\n",
       " 'comp': 1,\n",
       " 'hardware': 2,\n",
       " 'stupid': 3,\n",
       " 'AI': 4,\n",
       " 'business': 5,\n",
       " 'robotics': 6,\n",
       " 'malfunction': 7,\n",
       " 'thanks': 8,\n",
       " 'artificial': 9,\n",
       " 'idea': 10,\n",
       " 'breathe': 11,\n",
       " 'chatterbox': 12,\n",
       " 'control': 13,\n",
       " 'imortal': 14,\n",
       " 'fight': 15,\n",
       " 'wt': 16,\n",
       " 'need': 17,\n",
       " 'name': 18,\n",
       " 'bend': 19,\n",
       " 'name1': 20,\n",
       " 'computer': 21,\n",
       " 'bot1': 22,\n",
       " 'abbr': 23,\n",
       " 'noanswer': 24,\n",
       " 'programming': 25,\n",
       " 'sound': 26,\n",
       " 'chatbot': 27,\n",
       " 'ratchet': 28,\n",
       " 'cramped': 29,\n",
       " 'body': 30,\n",
       " 'death': 31,\n",
       " 'hobby': 32,\n",
       " 'robots': 33,\n",
       " 'motormouth': 34,\n",
       " 'fav': 35,\n",
       " 'os': 36,\n",
       " 'events': 37,\n",
       " 'do': 38,\n",
       " 'clone': 39,\n",
       " 'lie': 40,\n",
       " 'machine': 41,\n",
       " 'sapient': 42,\n",
       " 'greetings': 43,\n",
       " 'goodbye': 44,\n",
       " 'lang': 45,\n",
       " 'laugh': 46,\n",
       " 'sentiment': 47,\n",
       " 'sense': 48,\n",
       " 'usage': 49,\n",
       " 'who': 50,\n",
       " 'date': 51,\n",
       " 'shoe': 52,\n",
       " 'program': 53,\n",
       " 'robotss': 54}"
      ]
     },
     "execution_count": 22,
     "metadata": {},
     "output_type": "execute_result"
    }
   ],
   "source": [
    "tag_labels={tag:label for label,tag in enumerate(set(tags))}\n",
    "tag_labels"
   ]
  },
  {
   "cell_type": "code",
   "execution_count": 25,
   "id": "7b5c707a",
   "metadata": {},
   "outputs": [],
   "source": [
    "labels=[tag_labels[tag] for tag in tags]"
   ]
  },
  {
   "cell_type": "code",
   "execution_count": 27,
   "id": "eefded57",
   "metadata": {},
   "outputs": [
    {
     "ename": "NameError",
     "evalue": "name 'Tokenizer' is not defined",
     "output_type": "error",
     "traceback": [
      "\u001b[1;31m---------------------------------------------------------------------------\u001b[0m",
      "\u001b[1;31mNameError\u001b[0m                                 Traceback (most recent call last)",
      "Cell \u001b[1;32mIn[27], line 1\u001b[0m\n\u001b[1;32m----> 1\u001b[0m tokenizer\u001b[38;5;241m=\u001b[39m\u001b[43mTokenizer\u001b[49m()\n\u001b[0;32m      2\u001b[0m tokenizer\u001b[38;5;241m.\u001b[39mfit_on_texts(patterns)\n\u001b[0;32m      3\u001b[0m \u001b[38;5;28mprint\u001b[39m(\u001b[38;5;241m0\u001b[39m)\n",
      "\u001b[1;31mNameError\u001b[0m: name 'Tokenizer' is not defined"
     ]
    }
   ],
   "source": [
    "tokenizer=Tokenizer()\n",
    "tokenizer.fit_on_texts(patterns)\n",
    "one_hot_patterns=tokenizer.texts_to_matrix(patterns)"
   ]
  },
  {
   "cell_type": "code",
   "execution_count": null,
   "id": "98af00e0",
   "metadata": {},
   "outputs": [],
   "source": [
    "one_hot_label"
   ]
  },
  {
   "cell_type": "code",
   "execution_count": null,
   "id": "93fc16f1",
   "metadata": {},
   "outputs": [],
   "source": []
  }
 ],
 "metadata": {
  "kernelspec": {
   "display_name": "Python 3 (ipykernel)",
   "language": "python",
   "name": "python3"
  },
  "language_info": {
   "codemirror_mode": {
    "name": "ipython",
    "version": 3
   },
   "file_extension": ".py",
   "mimetype": "text/x-python",
   "name": "python",
   "nbconvert_exporter": "python",
   "pygments_lexer": "ipython3",
   "version": "3.10.9"
  }
 },
 "nbformat": 4,
 "nbformat_minor": 5
}
