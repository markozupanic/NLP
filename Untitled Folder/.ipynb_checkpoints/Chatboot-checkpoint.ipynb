{
 "cells": [
  {
   "cell_type": "code",
   "execution_count": 1,
   "id": "4ea6e3e4",
   "metadata": {},
   "outputs": [
    {
     "name": "stdout",
     "output_type": "stream",
     "text": [
      "['hi there', 'hello how are you', 'what is your name', 'who are you', 'you are who', 'my name is', 'how old are you', 'what is your age', 'are you getting older', 'what about your age', 'Where do you live', 'I live in', 'your resident', 'good morning', \"it's morning\", 'morning', 'good evening', \"it's evening\", 'evening', 'good night', 'night', 'sweet dreams', \"let's sleep\", 'weather report', 'give me weather report for today', \"tell me today's weather report\", 'What can you do', 'how can you help me', 'help', 'bye', 'goodbye', 'exit', 'I am fine thanks', 'I am fine', 'fine', 'thanks', 'thank you']\n",
      "Postavite pitanje (ili 'q' za izlaz): kako se zoves\n",
      "I'm 22 years old\n",
      "Postavite pitanje (ili 'q' za izlaz): what is your name\n",
      "I'm 22 years old\n",
      "Postavite pitanje (ili 'q' za izlaz): I live in\n",
      "Good, tell me..\n",
      "Postavite pitanje (ili 'q' za izlaz): q\n"
     ]
    }
   ],
   "source": [
    "from sklearn.naive_bayes import MultinomialNB\n",
    "from sklearn.feature_extraction.text import CountVectorizer\n",
    "from sklearn.metrics import accuracy_score\n",
    "\n",
    "with open(\"pitanja.txt\",\"r\") as f:\n",
    "    questions_all = f.read().splitlines()\n",
    "\n",
    "with open(\"odgovori.txt\",\"r\") as f:\n",
    "    answers = f.read().splitlines()\n",
    "\n",
    "labels = []\n",
    "questions = []\n",
    "for line in open ('pitanja.txt', encoding=\"utf8\"):\n",
    "    labels.append(line.split(\" \")[-1])\n",
    "    questions.append(\" \".join(line.split(\" \")[:-1]))\n",
    "answers = []\n",
    "for line in open ('odgovori.txt', encoding=\"utf8\"):\n",
    "    line = line.strip('\\n')\n",
    "    answers.append(line)\n",
    "\n",
    "\n",
    "bow_vectorizer = CountVectorizer()\n",
    "training_vectors = bow_vectorizer.fit_transform(questions)\n",
    "\n",
    "classifier = MultinomialNB()\n",
    "classifier.fit(training_vectors, labels)\n",
    "\n",
    "\n",
    "print(questions)\n",
    "#print(answers)\n",
    "#print(training_vectors)\n",
    "\n",
    "\n",
    "def chatbot(input_question):\n",
    "    # Pretvaranje ulaznog pitanja u vektor značajki\n",
    "    input_vector = bow_vectorizer.transform([input_question])\n",
    "\n",
    "    # Predviđanje kategorije pomoću klasifikatora\n",
    "    predicted_label = classifier.predict(input_vector)[0]\n",
    "\n",
    "    # Pronalaženje odgovora povezanog s predviđenom kategorijom\n",
    "    predicted_label_index = labels.index(predicted_label)\n",
    "    response = answers[predicted_label_index]\n",
    "\n",
    "    return response\n",
    "\n",
    "#Primjer korištenja chatbota\n",
    "while True:\n",
    "    user_input = input(\"Postavite pitanje (ili 'q' za izlaz): \")\n",
    "    if user_input.lower() == 'q':\n",
    "        break\n",
    "\n",
    "    response = chatbot(user_input)\n",
    "    print(response)"
   ]
  },
  {
   "cell_type": "code",
   "execution_count": null,
   "id": "4de45ff7",
   "metadata": {},
   "outputs": [],
   "source": []
  }
 ],
 "metadata": {
  "kernelspec": {
   "display_name": "Python 3 (ipykernel)",
   "language": "python",
   "name": "python3"
  },
  "language_info": {
   "codemirror_mode": {
    "name": "ipython",
    "version": 3
   },
   "file_extension": ".py",
   "mimetype": "text/x-python",
   "name": "python",
   "nbconvert_exporter": "python",
   "pygments_lexer": "ipython3",
   "version": "3.10.9"
  }
 },
 "nbformat": 4,
 "nbformat_minor": 5
}
